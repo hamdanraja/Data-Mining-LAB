{
 "cells": [
  {
   "cell_type": "code",
   "execution_count": 5,
   "metadata": {},
   "outputs": [],
   "source": [
    "from scipy.spatial.distance import hamming"
   ]
  },
  {
   "cell_type": "code",
   "execution_count": 6,
   "metadata": {},
   "outputs": [
    {
     "name": "stdout",
     "output_type": "stream",
     "text": [
      "0.3333333333333333\n"
     ]
    }
   ],
   "source": [
    "def haming_distance(a,b):\n",
    "    return sum(abs(e1-e2) for e1,e2 in zip(a,b))/len(b)\n",
    "row1=[0,0,0,0,0,1]\n",
    "row2=[0,0,0,0,1,0]\n",
    "dist=haming_distance(row1,row2)\n",
    "print(dist)"
   ]
  },
  {
   "cell_type": "code",
   "execution_count": 13,
   "metadata": {},
   "outputs": [
    {
     "name": "stdout",
     "output_type": "stream",
     "text": [
      "(p): 2\n",
      "(m): 0\n",
      "(d): 1.0\n"
     ]
    }
   ],
   "source": [
    "def calculate_distance(attributes, person1, person2, keys):\n",
    "    p = len(keys)  # Total unique attributes\n",
    "    m = 0  # Count of matches\n",
    "\n",
    "    for key in keys:\n",
    "        if attributes[person1][key] == attributes[person2][key]:\n",
    "            m += 1\n",
    "\n",
    "    distance = (p - m) / p  # Calculate distance\n",
    "    return p, m, distance\n",
    "\n",
    "# Attributes of individuals\n",
    "attributes = {\n",
    "    'Ali': {\n",
    "        'color': 'blue',\n",
    "        'food': 'cake'\n",
    "    },\n",
    "    'Faris': {\n",
    "        'color': 'yellow',\n",
    "        'food': 'Burger',\n",
    "    }\n",
    "}\n",
    "\n",
    "# Keys to compare\n",
    "keys = ['color', 'food']\n",
    "\n",
    "# Calculate distance\n",
    "unique, number_of_matches, distance = calculate_distance(attributes, 'Ali', 'Faris', keys)\n",
    "\n",
    "# Print results\n",
    "print(\"(p):\", total_unique_attributes)\n",
    "print(\"(m):\", number_of_matches)\n",
    "print(\"(d):\", distance)\n"
   ]
  },
  {
   "cell_type": "code",
   "execution_count": 15,
   "metadata": {},
   "outputs": [
    {
     "name": "stdout",
     "output_type": "stream",
     "text": [
      "(p): 2\n",
      "(m): 1\n",
      "(d): 0.5\n"
     ]
    }
   ],
   "source": [
    "def calculate_distance(attributes, person1, person2, keys):\n",
    "    p = len(keys)  # Total unique attributes\n",
    "    m = 0  # Count of matches\n",
    "\n",
    "    for key in keys:\n",
    "        if attributes[person1][key] == attributes[person2][key]:\n",
    "            m += 1\n",
    "\n",
    "    distance = (p - m) / p  # Calculate distance\n",
    "    return p, m, distance\n",
    "\n",
    "# Attributes of individuals\n",
    "attributes = {\n",
    "    'Ali': {\n",
    "        'color': 'blue',\n",
    "        'food': 'cake'\n",
    "    },\n",
    "    'bilal': {\n",
    "        'color': 'yellow',\n",
    "        'food': 'cake',\n",
    "    }\n",
    "}\n",
    "\n",
    "# Keys to compare\n",
    "keys = ['color', 'food']\n",
    "\n",
    "# Calculate distance\n",
    "unique, number_of_matches, distance = calculate_distance(attributes, 'Ali', 'bilal', keys)\n",
    "\n",
    "# Print results\n",
    "print(\"(p):\", total_unique_attributes)\n",
    "print(\"(m):\", number_of_matches)\n",
    "print(\"(d):\", distance)"
   ]
  },
  {
   "cell_type": "code",
   "execution_count": 20,
   "metadata": {},
   "outputs": [
    {
     "name": "stdout",
     "output_type": "stream",
     "text": [
      "Name  Jack  Mary  Jim\n",
      "Name                 \n",
      "Jack   1.0   1.0  1.0\n",
      "Mary   1.0   1.0  1.0\n",
      "Jim    1.0   1.0  1.0\n"
     ]
    }
   ],
   "source": [
    "import pandas as pd\n",
    "\n",
    "# Define the data\n",
    "data = {\n",
    "    'Name': ['Jack', 'Mary', 'Jim'],\n",
    "    'Fever': ['Y', 'Y', 'Y'],\n",
    "    'Cough': ['N', 'N', 'P'],\n",
    "    'Test-1': ['P', 'P', 'N'],\n",
    "    'Test-2': ['N', 'N', 'N'],\n",
    "    'Test-3': ['N', 'P', 'N'],\n",
    "    'Test-4': ['N', 'N', 'N']\n",
    "}\n",
    "\n",
    "# Create a DataFrame\n",
    "df = pd.DataFrame(data)\n",
    "\n",
    "# Function to calculate dissimilarity\n",
    "def dissimilarity(i, j):\n",
    "    r = 0  # Count of matching attributes\n",
    "    s = 0  # Count of non-matching attributes\n",
    "    q = 0  # Count of attributes that are not present (missing values)\n",
    "    \n",
    "    for col in df.columns[1:]:  # Skip the Name column\n",
    "        if df.at[i, col] == df.at[j, col]:\n",
    "            r += 1\n",
    "        elif df.at[i, col] != df.at[j, col]:\n",
    "            s += 1\n",
    "    \n",
    "    q = len(df.columns) - 1 - (r + s)  # Total attributes minus matched and unmatched\n",
    "    \n",
    "    if (q + r + s) == 0:  # Avoid division by zero\n",
    "        return 0.0\n",
    "    \n",
    "    return (r + s) / (q + r + s)\n",
    "\n",
    "# Calculate dissimilarity matrix\n",
    "dissimilarity_matrix = pd.DataFrame(index=df['Name'], columns=df['Name'])\n",
    "\n",
    "for i in range(len(df)):\n",
    "    for j in range(len(df)):\n",
    "        dissimilarity_matrix.at[df.at[i, 'Name'], df.at[j, 'Name']] = dissimilarity(i, j)\n",
    "\n",
    "# Convert to numeric type for better readability\n",
    "dissimilarity_matrix = dissimilarity_matrix.astype(float)\n",
    "\n",
    "print(dissimilarity_matrix)"
   ]
  },
  {
   "cell_type": "code",
   "execution_count": null,
   "metadata": {},
   "outputs": [],
   "source": []
  }
 ],
 "metadata": {
  "kernelspec": {
   "display_name": "Python 3",
   "language": "python",
   "name": "python3"
  },
  "language_info": {
   "codemirror_mode": {
    "name": "ipython",
    "version": 3
   },
   "file_extension": ".py",
   "mimetype": "text/x-python",
   "name": "python",
   "nbconvert_exporter": "python",
   "pygments_lexer": "ipython3",
   "version": "3.8.5"
  }
 },
 "nbformat": 4,
 "nbformat_minor": 4
}
