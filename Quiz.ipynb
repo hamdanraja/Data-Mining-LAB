{
 "cells": [
  {
   "cell_type": "code",
   "execution_count": 3,
   "metadata": {},
   "outputs": [
    {
     "name": "stdout",
     "output_type": "stream",
     "text": [
      "           Pair  Dissimilarity\n",
      "0  (Jack, Mary)            1.0\n",
      "1   (Jack, Jim)            1.0\n",
      "2   (Mary, Jim)            1.0\n"
     ]
    }
   ],
   "source": [
    "import pandas as pd\n",
    "data = {\n",
    "    'Name': ['Jack', 'Mary', 'Jim'],\n",
    "    'Fever': ['Y', 'Y', 'Y'],\n",
    "    'Cough': ['N', 'N', 'P'],\n",
    "    'Test-1': ['P', 'P', 'N'],\n",
    "    'Test-2': ['N', 'N', 'N'],\n",
    "    'Test-3': ['N', 'P', 'N'],\n",
    "    'Test-4': ['N', 'N', 'N']\n",
    "}\n",
    "df = pd.DataFrame(data)\n",
    "def dissimilarity(i, j):\n",
    "    r = 0  # Count of matching attributes\n",
    "    s = 0  # Count of non-matching attributes\n",
    "    q = 0  # Count of attributes that are not present (missing values)\n",
    "    \n",
    "    for col in df.columns[1:]:  # Skip the Name column\n",
    "        if df.at[i, col] == df.at[j, col]:\n",
    "            r += 1\n",
    "        elif df.at[i, col] != df.at[j, col]:\n",
    "            s += 1\n",
    "    \n",
    "    q = len(df.columns) - 1 - (r + s)  # Total attributes minus matched and unmatched\n",
    "    \n",
    "    if (q + r + s) == 0:  # Avoid division by zero\n",
    "        return 0.0\n",
    "    \n",
    "    return (r + s) / (q + r + s)\n",
    "# Calculate dissimilarity for unique combinations\n",
    "dissimilarity_results = []\n",
    "for i in range(len(df)):\n",
    "    for j in range(i + 1, len(df)):  # Ensure unique pairs only\n",
    "        dissimilarity_score = dissimilarity(i, j)\n",
    "        dissimilarity_results.append({\n",
    "            'Pair': (df.at[i, 'Name'], df.at[j, 'Name']),\n",
    "            'Dissimilarity': dissimilarity_score\n",
    "        })\n",
    "dissimilarity_df = pd.DataFrame(dissimilarity_results)\n",
    "print(dissimilarity_df)\n"
   ]
  },
  {
   "cell_type": "code",
   "execution_count": 6,
   "metadata": {},
   "outputs": [],
   "source": []
  },
  {
   "cell_type": "code",
   "execution_count": null,
   "metadata": {},
   "outputs": [],
   "source": []
  }
 ],
 "metadata": {
  "kernelspec": {
   "display_name": "Python 3",
   "language": "python",
   "name": "python3"
  },
  "language_info": {
   "codemirror_mode": {
    "name": "ipython",
    "version": 3
   },
   "file_extension": ".py",
   "mimetype": "text/x-python",
   "name": "python",
   "nbconvert_exporter": "python",
   "pygments_lexer": "ipython3",
   "version": "3.8.5"
  }
 },
 "nbformat": 4,
 "nbformat_minor": 4
}
